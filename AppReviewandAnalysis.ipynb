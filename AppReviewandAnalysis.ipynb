{
 "cells": [
  {
   "cell_type": "markdown",
   "metadata": {
    "collapsed": true
   },
   "source": [
    "# Investigation the Most Profitable Apps in App Store"
   ]
  },
  {
   "cell_type": "markdown",
   "metadata": {},
   "source": [
    "Our aim in this project is to find mobile app profiles that are profitable for the App Store and Google Play markets. We will use two kaggle datasets to build our analysis on \n",
    "\n",
    "For android apps we will compile data from :\n",
    "https://www.kaggle.com/lava18/google-play-store-apps\n",
    "\n",
    "For ios apps we will compile data from :\n",
    "https://www.kaggle.com/ramamet4/app-store-apple-data-set-10k-apps\n",
    "\n",
    "\n",
    "With the proliferation of free apps in app stores we want to find the most appealing that have captured the largest market share. These apps will help us understand which apps have the greatest potential for in-app monetization and will also allow for us to dig deeper and see what makes these apps so popular"
   ]
  },
  {
   "cell_type": "markdown",
   "metadata": {},
   "source": [
    "Lets begin by opening and examining this data"
   ]
  },
  {
   "cell_type": "code",
   "execution_count": 1,
   "metadata": {
    "collapsed": true
   },
   "outputs": [],
   "source": [
    "#Create a CSV opener\n",
    "def open_csv(csv):\n",
    "    from csv import reader\n",
    "    f = open(csv)\n",
    "    read = reader(f)\n",
    "    parse = list(read)\n",
    "    \n",
    "    return parse"
   ]
  },
  {
   "cell_type": "code",
   "execution_count": 2,
   "metadata": {
    "collapsed": true
   },
   "outputs": [],
   "source": [
    "#Create an explorer function\n",
    "def explore_data(dataset, start, end, rows_and_columns = False):\n",
    "    ds = dataset[start:end]\n",
    "    for row in ds:\n",
    "        print(row,'\\n')\n",
    "    if rows_and_columns:\n",
    "        print('Number of Rows :',len(dataset))\n",
    "        print('Number of Columns :', len(dataset[0]),'\\n')"
   ]
  },
  {
   "cell_type": "code",
   "execution_count": 3,
   "metadata": {
    "collapsed": false
   },
   "outputs": [
    {
     "name": "stdout",
     "output_type": "stream",
     "text": [
      "['App', 'Category', 'Rating', 'Reviews', 'Size', 'Installs', 'Type', 'Price', 'Content Rating', 'Genres', 'Last Updated', 'Current Ver', 'Android Ver'] \n",
      "\n",
      "['Photo Editor & Candy Camera & Grid & ScrapBook', 'ART_AND_DESIGN', '4.1', '159', '19M', '10,000+', 'Free', '0', 'Everyone', 'Art & Design', 'January 7, 2018', '1.0.0', '4.0.3 and up'] \n",
      "\n",
      "Number of Rows : 10842\n",
      "Number of Columns : 13 \n",
      "\n",
      "['id', 'track_name', 'size_bytes', 'currency', 'price', 'rating_count_tot', 'rating_count_ver', 'user_rating', 'user_rating_ver', 'ver', 'cont_rating', 'prime_genre', 'sup_devices.num', 'ipadSc_urls.num', 'lang.num', 'vpp_lic'] \n",
      "\n",
      "['284882215', 'Facebook', '389879808', 'USD', '0.0', '2974676', '212', '3.5', '3.5', '95.0', '4+', 'Social Networking', '37', '1', '29', '1'] \n",
      "\n",
      "Number of Rows : 7198\n",
      "Number of Columns : 16 \n",
      "\n"
     ]
    }
   ],
   "source": [
    "#Open CSVs\n",
    "ios = open_csv('AppleStore.csv')\n",
    "andr = open_csv('googleplaystore.csv')\n",
    "\n",
    "#Explore The And. and IOS App CSVs\n",
    "explore_data(andr,0,2, True)\n",
    "explore_data(ios,0,2, True)"
   ]
  },
  {
   "cell_type": "markdown",
   "metadata": {
    "collapsed": true
   },
   "source": [
    "column descriptions = https://www.kaggle.com/ramamet4/app-store-apple-data-set-10k-apps"
   ]
  },
  {
   "cell_type": "code",
   "execution_count": 4,
   "metadata": {
    "collapsed": false
   },
   "outputs": [],
   "source": [
    "#Identify Missing Cols\n",
    "def missing_col(data):\n",
    "    for index,row in enumerate(data):\n",
    "        if len(row) < len(data[0]):\n",
    "            print(\"At row : {} \\n{}\\nThe row has {} columns but the number of columns at the header is {}\"\n",
    "                  .format(index,row,len(row),len(data[0])))"
   ]
  },
  {
   "cell_type": "code",
   "execution_count": 5,
   "metadata": {
    "collapsed": false
   },
   "outputs": [
    {
     "name": "stdout",
     "output_type": "stream",
     "text": [
      "None\n",
      "At row : 10473 \n",
      "['Life Made WI-Fi Touchscreen Photo Frame', '1.9', '19', '3.0M', '1,000+', 'Free', '0', 'Everyone', '', 'February 11, 2018', '1.0.19', '4.0 and up']\n",
      "The row has 12 columns but the number of columns at the header is 13\n",
      "None\n"
     ]
    }
   ],
   "source": [
    "#find missing Cols\n",
    "print(missing_col(ios))\n",
    "print(missing_col(andr))"
   ]
  },
  {
   "cell_type": "code",
   "execution_count": 6,
   "metadata": {
    "collapsed": false
   },
   "outputs": [
    {
     "data": {
      "text/plain": [
       "['Life Made WI-Fi Touchscreen Photo Frame',\n",
       " '1.9',\n",
       " '19',\n",
       " '3.0M',\n",
       " '1,000+',\n",
       " 'Free',\n",
       " '0',\n",
       " 'Everyone',\n",
       " '',\n",
       " 'February 11, 2018',\n",
       " '1.0.19',\n",
       " '4.0 and up']"
      ]
     },
     "execution_count": 6,
     "metadata": {},
     "output_type": "execute_result"
    }
   ],
   "source": [
    "#In android apps explore the row with a missing column value\n",
    "andr[10473]"
   ]
  },
  {
   "cell_type": "markdown",
   "metadata": {},
   "source": [
    "Because it seems we are missing the Category column, lets manually input a relevant value into this column. In this case it seems that we are looking at a Lifestyle app. Let's do that now."
   ]
  },
  {
   "cell_type": "code",
   "execution_count": 7,
   "metadata": {
    "collapsed": false
   },
   "outputs": [],
   "source": [
    "#Insert the missing value in the column\n",
    "andr[10473].insert(1,'Lifestyle')"
   ]
  },
  {
   "cell_type": "code",
   "execution_count": 8,
   "metadata": {
    "collapsed": false
   },
   "outputs": [
    {
     "data": {
      "text/plain": [
       "['Life Made WI-Fi Touchscreen Photo Frame',\n",
       " 'Lifestyle',\n",
       " '1.9',\n",
       " '19',\n",
       " '3.0M',\n",
       " '1,000+',\n",
       " 'Free',\n",
       " '0',\n",
       " 'Everyone',\n",
       " '',\n",
       " 'February 11, 2018',\n",
       " '1.0.19',\n",
       " '4.0 and up']"
      ]
     },
     "execution_count": 8,
     "metadata": {},
     "output_type": "execute_result"
    }
   ],
   "source": [
    "#Check if it looks okay now\n",
    "andr[10473]"
   ]
  },
  {
   "cell_type": "markdown",
   "metadata": {},
   "source": [
    "We want to now examine if there are any duplicate apps in our dataset"
   ]
  },
  {
   "cell_type": "code",
   "execution_count": 9,
   "metadata": {
    "collapsed": false
   },
   "outputs": [],
   "source": [
    "#Create duplicate finder function\n",
    "def duplicate_data(data,ios=False):\n",
    "    duplicate_apps=[]\n",
    "    unique_apps=[]\n",
    "    for app in data:\n",
    "        if ios:\n",
    "            if app[1] in unique_apps:\n",
    "                duplicate_apps.append(app[1])\n",
    "            else:\n",
    "                unique_apps.append(app[1])\n",
    "        else:\n",
    "            if app[0] in unique_apps:\n",
    "                duplicate_apps.append(app[0])\n",
    "            else:\n",
    "                unique_apps.append(app[0])\n",
    "    \n",
    "    length_dup = len(duplicate_apps)\n",
    "    lenght_unique = len(unique_apps)\n",
    "    \n",
    "    print('How many unique apps :',lenght_unique\n",
    "          ,'\\nHow many duplicate apps :',length_dup\n",
    "          ,'\\nSample of apps:\\n',duplicate_apps[:5])\n",
    "    \n",
    "    #return unique_apps,duplicate_apps"
   ]
  },
  {
   "cell_type": "code",
   "execution_count": 10,
   "metadata": {
    "collapsed": false
   },
   "outputs": [
    {
     "name": "stdout",
     "output_type": "stream",
     "text": [
      "How many unique apps : 7196 \n",
      "How many duplicate apps : 2 \n",
      "Sample of apps:\n",
      " ['Mannequin Challenge', 'VR Roller Coaster']\n"
     ]
    }
   ],
   "source": [
    "#Check for duplicate IOS apps\n",
    "duplicate_data(ios,True)"
   ]
  },
  {
   "cell_type": "markdown",
   "metadata": {},
   "source": [
    "We can see that in the IOS dataset there are 2 duplicate apps"
   ]
  },
  {
   "cell_type": "code",
   "execution_count": 11,
   "metadata": {
    "collapsed": false
   },
   "outputs": [
    {
     "name": "stdout",
     "output_type": "stream",
     "text": [
      "How many unique apps : 9661 \n",
      "How many duplicate apps : 1181 \n",
      "Sample of apps:\n",
      " ['Quick PDF Scanner + OCR FREE', 'Box', 'Google My Business', 'ZOOM Cloud Meetings', 'join.me - Simple Meetings']\n"
     ]
    }
   ],
   "source": [
    "#Check for Duplicate Android Apps\n",
    "duplicate_data(andr)"
   ]
  },
  {
   "cell_type": "markdown",
   "metadata": {},
   "source": [
    "We can see that in the android dataset, there, is a lot more noise, it appears that there are 1181 duplicate apps"
   ]
  },
  {
   "cell_type": "markdown",
   "metadata": {
    "collapsed": true
   },
   "source": [
    "### Removing Duplicate Records\n",
    "\n",
    "To remove these duplicate records we'll operate based on the assumption that the duplicate record with the highest number of reviews is the most recent entry and the most stable version released for the app."
   ]
  },
  {
   "cell_type": "code",
   "execution_count": 12,
   "metadata": {
    "collapsed": false
   },
   "outputs": [],
   "source": [
    "#Create a function that creates a dictionary of all app names in a csv\n",
    "# and stores the highest number of reviews that app has as its value.\n",
    "def find_dups_dict(data,ios=False):\n",
    "    reviews_max={}\n",
    "    if ios:\n",
    "        for app in data[1:]:\n",
    "            name=app[1]\n",
    "            n_reviews=float(app[5])\n",
    "\n",
    "            if name not in reviews_max:\n",
    "                reviews_max[name]=0\n",
    "            if name in reviews_max and reviews_max[name] < n_reviews:\n",
    "                reviews_max[name]=n_reviews\n",
    "    \n",
    "    else:\n",
    "        for app in data[1:]:\n",
    "            name=app[0]\n",
    "            n_reviews=float(app[3])\n",
    "\n",
    "            if name not in reviews_max:\n",
    "                reviews_max[name]=0\n",
    "            if name in reviews_max and reviews_max[name] < n_reviews:\n",
    "                reviews_max[name]=n_reviews\n",
    "    \n",
    "    return reviews_max"
   ]
  },
  {
   "cell_type": "code",
   "execution_count": 13,
   "metadata": {
    "collapsed": false
   },
   "outputs": [],
   "source": [
    "# Create a duplicate remover. Function will run through all app names\n",
    "# it will find the row where the app had the highest number of reviews \n",
    "# (using the above created function) and append that row to a new list\n",
    "# this new list will now have no duplicates \n",
    "# i.e. it takes only the row with the highest rating\n",
    "def remove_duplicates(data,ios=False):\n",
    "    clean=[]\n",
    "    already_added=[]\n",
    "    if ios:\n",
    "        reviews_max = find_dups_dict(data,ios=True)\n",
    "        for app in data[1:]:\n",
    "            name=app[1]\n",
    "            reviews=float(app[5])\n",
    "            if (reviews == reviews_max[name]) and (name not in already_added):\n",
    "                clean.append(app)\n",
    "                already_added.append(name)           \n",
    "    else:\n",
    "        reviews_max = find_dups_dict(data)\n",
    "        for app in data[1:]:\n",
    "            name=app[0]\n",
    "            reviews=float(app[3])\n",
    "            if (reviews == reviews_max[name]) and (name not in already_added):\n",
    "                clean.append(app)\n",
    "                already_added.append(name)        \n",
    "    clean.insert(0,data[0])\n",
    "    return clean  "
   ]
  },
  {
   "cell_type": "code",
   "execution_count": 14,
   "metadata": {
    "collapsed": false
   },
   "outputs": [],
   "source": [
    "android_clean = remove_duplicates(andr)\n",
    "ios_clean=remove_duplicates(ios,ios=True)"
   ]
  },
  {
   "cell_type": "code",
   "execution_count": 15,
   "metadata": {
    "collapsed": false
   },
   "outputs": [
    {
     "name": "stdout",
     "output_type": "stream",
     "text": [
      "7196\n",
      "9661\n"
     ]
    }
   ],
   "source": [
    "print(len(ios_clean))\n",
    "print(len(android_clean))"
   ]
  },
  {
   "cell_type": "markdown",
   "metadata": {},
   "source": [
    "### Removing Non-English Apps\n",
    "\n",
    "We want to now remove all apps that are not in the English language. Let's start by constructing a english text string parser. This will scan a string and return true if each letter is in the English language"
   ]
  },
  {
   "cell_type": "code",
   "execution_count": 16,
   "metadata": {
    "collapsed": true
   },
   "outputs": [],
   "source": [
    "def english_text(string):\n",
    "    counter=0\n",
    "    for letter in string:\n",
    "        if ord(letter) > 127:\n",
    "            counter+=1    \n",
    "    if counter>3:\n",
    "        return False\n",
    "    else:\n",
    "        return True"
   ]
  },
  {
   "cell_type": "code",
   "execution_count": 17,
   "metadata": {
    "collapsed": false
   },
   "outputs": [
    {
     "name": "stdout",
     "output_type": "stream",
     "text": [
      "['App', 'Category', 'Rating', 'Reviews', 'Size', 'Installs', 'Type', 'Price', 'Content Rating', 'Genres', 'Last Updated', 'Current Ver', 'Android Ver'] \n",
      "\n",
      "['Photo Editor & Candy Camera & Grid & ScrapBook', 'ART_AND_DESIGN', '4.1', '159', '19M', '10,000+', 'Free', '0', 'Everyone', 'Art & Design', 'January 7, 2018', '1.0.0', '4.0.3 and up'] \n",
      "\n",
      "Number of Rows : 9616\n",
      "Number of Columns : 13 \n",
      "\n",
      "\n",
      "\n",
      "['id', 'track_name', 'size_bytes', 'currency', 'price', 'rating_count_tot', 'rating_count_ver', 'user_rating', 'user_rating_ver', 'ver', 'cont_rating', 'prime_genre', 'sup_devices.num', 'ipadSc_urls.num', 'lang.num', 'vpp_lic'] \n",
      "\n",
      "['284882215', 'Facebook', '389879808', 'USD', '0.0', '2974676', '212', '3.5', '3.5', '95.0', '4+', 'Social Networking', '37', '1', '29', '1'] \n",
      "\n",
      "Number of Rows : 6182\n",
      "Number of Columns : 16 \n",
      "\n"
     ]
    }
   ],
   "source": [
    "android_english = []\n",
    "ios_english = []\n",
    "\n",
    "for app in android_clean[1:]:\n",
    "    name = app[0]\n",
    "    if english_text(name):\n",
    "        android_english.append(app)\n",
    "android_english.insert(0,android_clean[0])\n",
    "        \n",
    "for app in ios_clean[1:]:\n",
    "    name = app[1]\n",
    "    if english_text(name):\n",
    "        ios_english.append(app)\n",
    "ios_english.insert(0,ios_clean[0])        \n",
    "\n",
    "explore_data(android_english, 0, 2, True)\n",
    "print('\\n')\n",
    "explore_data(ios_english, 0, 2, True)"
   ]
  },
  {
   "cell_type": "markdown",
   "metadata": {},
   "source": [
    "After cleaning our data and removing foreign language apps we find we have 9616 Android and 6182 IOS apps left"
   ]
  },
  {
   "cell_type": "markdown",
   "metadata": {
    "collapsed": true
   },
   "source": [
    "## Isolating Free Apps\n",
    "\n",
    "Apps that use advertising as a revenue model are often free to use, in order to remove barriers to entry for potential customers. Our data sets contain both free and non-free apps. We'll clean our datasets further by isolating the apps that use a free to use model, as we're particuarly interested in seeing what diffrentiates these apps in the in-app ad market.\n",
    " "
   ]
  },
  {
   "cell_type": "code",
   "execution_count": 18,
   "metadata": {
    "collapsed": false
   },
   "outputs": [
    {
     "name": "stdout",
     "output_type": "stream",
     "text": [
      "8866\n",
      "3221\n"
     ]
    }
   ],
   "source": [
    "android_final = []\n",
    "ios_final = []\n",
    "\n",
    "for app in android_english:\n",
    "    price = app[7]\n",
    "    if price == '0':\n",
    "        android_final.append(app)\n",
    "android_final.insert(0,android_english[0])        \n",
    "\n",
    "\n",
    "for app in ios_english:\n",
    "    price = app[4]\n",
    "    if price == '0.0':\n",
    "        ios_final.append(app)\n",
    "ios_final.insert(0,ios_english[0])        \n",
    "\n",
    "print(len(android_final))\n",
    "print(len(ios_final))"
   ]
  },
  {
   "cell_type": "markdown",
   "metadata": {},
   "source": [
    "We now have 8865 free Android apps and 3220 IOS apps left"
   ]
  },
  {
   "cell_type": "markdown",
   "metadata": {},
   "source": [
    "## Most Common Apps by Genre\n",
    "\n",
    "So far we've cleaned our dataset to isolate apps that have the following features:\n",
    "        1. Unique English apps in both the IOS App Store and Android Play Store\n",
    "        2. Apps in the above stores that are free\n",
    "\n",
    "The reason why we've done this, is because we want to validate which free English apps gain the most traction in both the Android and IOS App Stores. This information can be useful for app developers because it will allow them to create apps, gauge responses for it in the Play Store. If profitable the app can then be further rolled out to the App Store. \n",
    "\n",
    "To build on our goal, we now want to get a sense of what are the most common genres of apps in both markets. \n",
    "\n",
    "We can start doing this by building a Frequency table in both datasets to count apps by their genre"
   ]
  },
  {
   "cell_type": "markdown",
   "metadata": {},
   "source": [
    "### Build Frequency Table"
   ]
  },
  {
   "cell_type": "code",
   "execution_count": 19,
   "metadata": {
    "collapsed": false,
    "scrolled": true
   },
   "outputs": [
    {
     "name": "stdout",
     "output_type": "stream",
     "text": [
      "['id', 'track_name', 'size_bytes', 'currency', 'price', 'rating_count_tot', 'rating_count_ver', 'user_rating', 'user_rating_ver', 'ver', 'cont_rating', 'prime_genre', 'sup_devices.num', 'ipadSc_urls.num', 'lang.num', 'vpp_lic'] \n",
      "\n",
      "['App', 'Category', 'Rating', 'Reviews', 'Size', 'Installs', 'Type', 'Price', 'Content Rating', 'Genres', 'Last Updated', 'Current Ver', 'Android Ver'] \n",
      "\n",
      "['Photo Editor & Candy Camera & Grid & ScrapBook', 'ART_AND_DESIGN', '4.1', '159', '19M', '10,000+', 'Free', '0', 'Everyone', 'Art & Design', 'January 7, 2018', '1.0.0', '4.0.3 and up'] \n",
      "\n"
     ]
    }
   ],
   "source": [
    "explore_data(ios_final,0,1) #col 11 is genre\n",
    "explore_data(android_final,0,2) #col 9 is genre, col 2 is category"
   ]
  },
  {
   "cell_type": "code",
   "execution_count": 20,
   "metadata": {
    "collapsed": true
   },
   "outputs": [],
   "source": [
    "def freq_table(dataset,index):\n",
    "    table_entries={}\n",
    "    table_counts = 0\n",
    "    \n",
    "    for row in dataset[1:]:\n",
    "        table_counts += 1\n",
    "        entry=row[index]\n",
    "        if entry in table_entries:\n",
    "            table_entries[entry]+=1\n",
    "        else:\n",
    "            table_entries[entry]=1\n",
    "    \n",
    "    table_freq={}\n",
    "    for key in table_entries:\n",
    "        table_freq[key]=round((table_entries[key]/table_counts)*100,2)\n",
    "    \n",
    "    return table_freq"
   ]
  },
  {
   "cell_type": "code",
   "execution_count": 21,
   "metadata": {
    "collapsed": false
   },
   "outputs": [],
   "source": [
    "#Let's create a function that sorts these dictionary values in decending order\n",
    "def display_table(dataset,index):\n",
    "    table=freq_table(dataset,index)\n",
    "    table_display=[]\n",
    "    for key in table:\n",
    "        key_val_as_tuple=(table[key],key)\n",
    "        table_display.append(key_val_as_tuple)\n",
    "\n",
    "    table_sorted=sorted(table_display,reverse=True)\n",
    "\n",
    "    for entry in table_sorted:\n",
    "        print(entry[1],':',entry[0],'%')\n"
   ]
  },
  {
   "cell_type": "markdown",
   "metadata": {},
   "source": [
    "Let's begin by examining the Prime Genre in the IOS App store"
   ]
  },
  {
   "cell_type": "code",
   "execution_count": 22,
   "metadata": {
    "collapsed": false
   },
   "outputs": [
    {
     "name": "stdout",
     "output_type": "stream",
     "text": [
      "Games : 58.14 %\n",
      "Entertainment : 7.89 %\n",
      "Photo & Video : 4.97 %\n",
      "Education : 3.66 %\n",
      "Social Networking : 3.29 %\n",
      "Shopping : 2.61 %\n",
      "Utilities : 2.52 %\n",
      "Sports : 2.14 %\n",
      "Music : 2.05 %\n",
      "Health & Fitness : 2.02 %\n",
      "Productivity : 1.74 %\n",
      "Lifestyle : 1.58 %\n",
      "News : 1.34 %\n",
      "Travel : 1.24 %\n",
      "Finance : 1.12 %\n",
      "Weather : 0.87 %\n",
      "Food & Drink : 0.81 %\n",
      "Reference : 0.56 %\n",
      "Business : 0.53 %\n",
      "Book : 0.43 %\n",
      "Navigation : 0.19 %\n",
      "Medical : 0.19 %\n",
      "Catalogs : 0.12 %\n"
     ]
    }
   ],
   "source": [
    "display_table(ios_final,11) # IOS Genres"
   ]
  },
  {
   "cell_type": "markdown",
   "metadata": {},
   "source": [
    "We can see that among the free English apps, more than a half (58.16%) are games. Entertainment apps are close to 8%, followed by photo and video apps, which are close to 5%. Only 3.66% of the apps are designed for education, followed by social networking apps which amount for 3.29% of the apps in our data set.\n",
    "\n",
    "The general impression is that App Store (at least the part containing free English apps) is dominated by apps that are designed for fun (games, entertainment, photo and video, social networking, sports, music, etc.), while apps with practical purposes (education, shopping, utilities, productivity, lifestyle, etc.) are more rare. However, the fact that fun apps are the most numerous doesn't also imply that they also have the greatest number of users — the demand might not be the same as the offer.\n",
    "\n",
    "Let's continue by examining the Genres and Category columns of the Google Play data set (two columns which seem to be related)."
   ]
  },
  {
   "cell_type": "code",
   "execution_count": 23,
   "metadata": {
    "collapsed": false
   },
   "outputs": [
    {
     "name": "stdout",
     "output_type": "stream",
     "text": [
      "FAMILY : 18.91 %\n",
      "GAME : 9.72 %\n",
      "TOOLS : 8.46 %\n",
      "BUSINESS : 4.59 %\n",
      "LIFESTYLE : 3.9 %\n",
      "PRODUCTIVITY : 3.89 %\n",
      "FINANCE : 3.7 %\n",
      "MEDICAL : 3.53 %\n",
      "SPORTS : 3.4 %\n",
      "PERSONALIZATION : 3.32 %\n",
      "COMMUNICATION : 3.24 %\n",
      "HEALTH_AND_FITNESS : 3.08 %\n",
      "PHOTOGRAPHY : 2.94 %\n",
      "NEWS_AND_MAGAZINES : 2.8 %\n",
      "SOCIAL : 2.66 %\n",
      "TRAVEL_AND_LOCAL : 2.34 %\n",
      "SHOPPING : 2.24 %\n",
      "BOOKS_AND_REFERENCE : 2.14 %\n",
      "DATING : 1.86 %\n",
      "VIDEO_PLAYERS : 1.79 %\n",
      "MAPS_AND_NAVIGATION : 1.4 %\n",
      "FOOD_AND_DRINK : 1.24 %\n",
      "EDUCATION : 1.16 %\n",
      "ENTERTAINMENT : 0.96 %\n",
      "LIBRARIES_AND_DEMO : 0.94 %\n",
      "AUTO_AND_VEHICLES : 0.92 %\n",
      "HOUSE_AND_HOME : 0.82 %\n",
      "WEATHER : 0.8 %\n",
      "EVENTS : 0.71 %\n",
      "PARENTING : 0.65 %\n",
      "ART_AND_DESIGN : 0.64 %\n",
      "COMICS : 0.62 %\n",
      "BEAUTY : 0.6 %\n",
      "Lifestyle : 0.01 %\n"
     ]
    }
   ],
   "source": [
    "display_table(android_final, 1) # Category"
   ]
  },
  {
   "cell_type": "markdown",
   "metadata": {},
   "source": [
    "\n",
    "The landscape seems significantly different on Google Play: there are not that many apps designed for fun, and it seems that a good number of apps are designed for practical purposes (family, tools, business, lifestyle, productivity, etc.). However, if we investigate this further, we can see that the family category (which accounts for almost 19% of the apps) means mostly games for kids.\n",
    "\n",
    "Even so, practical apps seem to have a better representation on Google Play compared to App Store. This picture is also confirmed by the frequency table we see for the Genres column:"
   ]
  },
  {
   "cell_type": "code",
   "execution_count": 24,
   "metadata": {
    "collapsed": false
   },
   "outputs": [
    {
     "name": "stdout",
     "output_type": "stream",
     "text": [
      "Tools : 8.45 %\n",
      "Entertainment : 6.07 %\n",
      "Education : 5.35 %\n",
      "Business : 4.59 %\n",
      "Productivity : 3.89 %\n",
      "Lifestyle : 3.89 %\n",
      "Finance : 3.7 %\n",
      "Medical : 3.53 %\n",
      "Sports : 3.46 %\n",
      "Personalization : 3.32 %\n",
      "Communication : 3.24 %\n",
      "Action : 3.1 %\n",
      "Health & Fitness : 3.08 %\n",
      "Photography : 2.94 %\n",
      "News & Magazines : 2.8 %\n",
      "Social : 2.66 %\n",
      "Travel & Local : 2.32 %\n",
      "Shopping : 2.24 %\n",
      "Books & Reference : 2.14 %\n",
      "Simulation : 2.04 %\n",
      "Dating : 1.86 %\n",
      "Arcade : 1.85 %\n",
      "Video Players & Editors : 1.77 %\n",
      "Casual : 1.76 %\n",
      "Maps & Navigation : 1.4 %\n",
      "Food & Drink : 1.24 %\n",
      "Puzzle : 1.13 %\n",
      "Racing : 0.99 %\n",
      "Role Playing : 0.94 %\n",
      "Libraries & Demo : 0.94 %\n",
      "Auto & Vehicles : 0.92 %\n",
      "Strategy : 0.91 %\n",
      "House & Home : 0.82 %\n",
      "Weather : 0.8 %\n",
      "Events : 0.71 %\n",
      "Adventure : 0.68 %\n",
      "Comics : 0.61 %\n",
      "Beauty : 0.6 %\n",
      "Art & Design : 0.6 %\n",
      "Parenting : 0.5 %\n",
      "Card : 0.45 %\n",
      "Casino : 0.43 %\n",
      "Trivia : 0.42 %\n",
      "Educational;Education : 0.39 %\n",
      "Board : 0.38 %\n",
      "Educational : 0.37 %\n",
      "Education;Education : 0.34 %\n",
      "Word : 0.26 %\n",
      "Casual;Pretend Play : 0.24 %\n",
      "Music : 0.2 %\n",
      "Racing;Action & Adventure : 0.17 %\n",
      "Puzzle;Brain Games : 0.17 %\n",
      "Entertainment;Music & Video : 0.17 %\n",
      "Casual;Brain Games : 0.14 %\n",
      "Casual;Action & Adventure : 0.14 %\n",
      "Arcade;Action & Adventure : 0.12 %\n",
      "Action;Action & Adventure : 0.1 %\n",
      "Educational;Pretend Play : 0.09 %\n",
      "Simulation;Action & Adventure : 0.08 %\n",
      "Parenting;Education : 0.08 %\n",
      "Entertainment;Brain Games : 0.08 %\n",
      "Board;Brain Games : 0.08 %\n",
      "Parenting;Music & Video : 0.07 %\n",
      "Educational;Brain Games : 0.07 %\n",
      "Casual;Creativity : 0.07 %\n",
      "Art & Design;Creativity : 0.07 %\n",
      "Education;Pretend Play : 0.06 %\n",
      "Role Playing;Pretend Play : 0.05 %\n",
      "Education;Creativity : 0.05 %\n",
      "Role Playing;Action & Adventure : 0.03 %\n",
      "Puzzle;Action & Adventure : 0.03 %\n",
      "Entertainment;Creativity : 0.03 %\n",
      "Entertainment;Action & Adventure : 0.03 %\n",
      "Educational;Creativity : 0.03 %\n",
      "Educational;Action & Adventure : 0.03 %\n",
      "Education;Music & Video : 0.03 %\n",
      "Education;Brain Games : 0.03 %\n",
      "Education;Action & Adventure : 0.03 %\n",
      "Adventure;Action & Adventure : 0.03 %\n",
      "Video Players & Editors;Music & Video : 0.02 %\n",
      "Sports;Action & Adventure : 0.02 %\n",
      "Simulation;Pretend Play : 0.02 %\n",
      "Puzzle;Creativity : 0.02 %\n",
      "Music;Music & Video : 0.02 %\n",
      "Entertainment;Pretend Play : 0.02 %\n",
      "Casual;Education : 0.02 %\n",
      "Board;Action & Adventure : 0.02 %\n",
      "Video Players & Editors;Creativity : 0.01 %\n",
      "Trivia;Education : 0.01 %\n",
      "Travel & Local;Action & Adventure : 0.01 %\n",
      "Tools;Education : 0.01 %\n",
      "Strategy;Education : 0.01 %\n",
      "Strategy;Creativity : 0.01 %\n",
      "Strategy;Action & Adventure : 0.01 %\n",
      "Simulation;Education : 0.01 %\n",
      "Role Playing;Brain Games : 0.01 %\n",
      "Racing;Pretend Play : 0.01 %\n",
      "Puzzle;Education : 0.01 %\n",
      "Parenting;Brain Games : 0.01 %\n",
      "Music & Audio;Music & Video : 0.01 %\n",
      "Lifestyle;Pretend Play : 0.01 %\n",
      "Lifestyle;Education : 0.01 %\n",
      "Health & Fitness;Education : 0.01 %\n",
      "Health & Fitness;Action & Adventure : 0.01 %\n",
      "Entertainment;Education : 0.01 %\n",
      "Communication;Creativity : 0.01 %\n",
      "Comics;Creativity : 0.01 %\n",
      "Casual;Music & Video : 0.01 %\n",
      "Card;Action & Adventure : 0.01 %\n",
      "Books & Reference;Education : 0.01 %\n",
      "Art & Design;Pretend Play : 0.01 %\n",
      "Art & Design;Action & Adventure : 0.01 %\n",
      "Arcade;Pretend Play : 0.01 %\n",
      "Adventure;Education : 0.01 %\n",
      " : 0.01 %\n"
     ]
    }
   ],
   "source": [
    "display_table(android_final,9) # Android Genre"
   ]
  },
  {
   "cell_type": "markdown",
   "metadata": {},
   "source": [
    "The difference between the Genres and the Category columns is not crystal clear, but one thing we can notice is that the Genres column is much more granular (it has more categories). We're only looking for the bigger picture at the moment, so we'll only work with the Category column moving forward.\n",
    "\n",
    "Up to this point, we found that the free Engligh language apps in the App Store are dominated by apps designed for fun, while Google Play shows a more balanced landscape of both practical and for-fun apps. Now we'd like to get an idea about the kind of apps that have most users."
   ]
  },
  {
   "cell_type": "markdown",
   "metadata": {},
   "source": [
    "### Most Popular Apps by Genre on the App Store\n",
    "\n",
    "#### Apple's App Store\n",
    "One way to find out what genres are the most popular (have the most users) is to calculate the average number of installs for each app genre. For the Google Play data set, we can find this information in the Installs column, but for the App Store data set this information is missing. As a workaround, we'll take the total number of user ratings as a proxy, which we can find in the rating_count_tot app.\n",
    "\n",
    "Below, we calculate the average number of user ratings per app genre on the App Store:"
   ]
  },
  {
   "cell_type": "code",
   "execution_count": 25,
   "metadata": {
    "collapsed": false
   },
   "outputs": [],
   "source": [
    "genre_lists=[]\n",
    "genre_ios_dict=freq_table(ios_final,11)\n",
    "for genre in genre_ios_dict:\n",
    "    total=0\n",
    "    len_genre=0\n",
    "    for app in ios_final:\n",
    "        genre_app=app[11]\n",
    "        if genre_app==genre:\n",
    "            number_of_ratings=float(app[5])\n",
    "            total += number_of_ratings\n",
    "            len_genre += 1\n",
    "    avg=float(round(total/len_genre,1))\n",
    "    tup=(avg,genre)\n",
    "    genre_lists.append(tup)\n",
    "genre_lists=sorted(genre_lists,reverse=True)"
   ]
  },
  {
   "cell_type": "code",
   "execution_count": 26,
   "metadata": {
    "collapsed": false
   },
   "outputs": [
    {
     "data": {
      "text/plain": [
       "[(86090.3, 'Navigation'),\n",
       " (74942.1, 'Reference'),\n",
       " (71548.3, 'Social Networking'),\n",
       " (57326.5, 'Music'),\n",
       " (52279.9, 'Weather'),\n",
       " (39758.5, 'Book'),\n",
       " (33333.9, 'Food & Drink'),\n",
       " (31467.9, 'Finance'),\n",
       " (28441.5, 'Photo & Video'),\n",
       " (28243.8, 'Travel'),\n",
       " (26919.7, 'Shopping'),\n",
       " (23298.0, 'Health & Fitness'),\n",
       " (23008.9, 'Sports'),\n",
       " (22812.9, 'Games'),\n",
       " (21248.0, 'News'),\n",
       " (21028.4, 'Productivity'),\n",
       " (18684.5, 'Utilities'),\n",
       " (16485.8, 'Lifestyle'),\n",
       " (14029.8, 'Entertainment'),\n",
       " (7491.1, 'Business'),\n",
       " (7004.0, 'Education'),\n",
       " (4004.0, 'Catalogs'),\n",
       " (612.0, 'Medical')]"
      ]
     },
     "execution_count": 26,
     "metadata": {},
     "output_type": "execute_result"
    }
   ],
   "source": [
    "genre_lists"
   ]
  },
  {
   "cell_type": "markdown",
   "metadata": {},
   "source": [
    "On average, navigation apps have the highest number of user reviews. Let's investigate it a little more"
   ]
  },
  {
   "cell_type": "code",
   "execution_count": 27,
   "metadata": {
    "collapsed": false
   },
   "outputs": [
    {
     "name": "stdout",
     "output_type": "stream",
     "text": [
      "Waze - GPS Navigation, Maps & Real-time Traffic - 345046  Ratings\n",
      "Google Maps - Navigation & Transit - 154911  Ratings\n",
      "Geocaching® - 12811  Ratings\n",
      "CoPilot GPS – Car Navigation & Offline Maps - 3582  Ratings\n",
      "ImmobilienScout24: Real Estate Search in Germany - 187  Ratings\n",
      "Railway Route Search - 5  Ratings\n"
     ]
    }
   ],
   "source": [
    "for app in ios_final:\n",
    "    if app[11]=='Navigation':\n",
    "        print(app[1],'-',app[5],' Ratings')"
   ]
  },
  {
   "cell_type": "markdown",
   "metadata": {},
   "source": [
    "It appears that in the app store Navigation is dominated by Waze and Google Maps. These are skewing our results as these two apps are taking the bulk of the reviews in this category, and thus dont provide a very helpful picture of the types of apps we can develop if we were to create our own app. Let's turn instead to the next most popular catergory 'Reference'"
   ]
  },
  {
   "cell_type": "code",
   "execution_count": 28,
   "metadata": {
    "collapsed": false
   },
   "outputs": [
    {
     "name": "stdout",
     "output_type": "stream",
     "text": [
      "Bible - 985920  Ratings\n",
      "Dictionary.com Dictionary & Thesaurus - 200047  Ratings\n",
      "Dictionary.com Dictionary & Thesaurus for iPad - 54175  Ratings\n",
      "Google Translate - 26786  Ratings\n",
      "Muslim Pro: Ramadan 2017 Prayer Times, Azan, Quran - 18418  Ratings\n",
      "New Furniture Mods - Pocket Wiki & Game Tools for Minecraft PC Edition - 17588  Ratings\n",
      "Merriam-Webster Dictionary - 16849  Ratings\n",
      "Night Sky - 12122  Ratings\n",
      "City Maps for Minecraft PE - The Best Maps for Minecraft Pocket Edition (MCPE) - 8535  Ratings\n",
      "LUCKY BLOCK MOD ™ for Minecraft PC Edition - The Best Pocket Wiki & Mods Installer Tools - 4693  Ratings\n",
      "GUNS MODS for Minecraft PC Edition - Mods Tools - 1497  Ratings\n",
      "Guides for Pokémon GO - Pokemon GO News and Cheats - 826  Ratings\n",
      "WWDC - 762  Ratings\n",
      "Horror Maps for Minecraft PE - Download The Scariest Maps for Minecraft Pocket Edition (MCPE) Free - 718  Ratings\n",
      "VPN Express - 14  Ratings\n",
      "Real Bike Traffic Rider Virtual Reality Glasses - 8  Ratings\n",
      "教えて!goo - 0  Ratings\n",
      "Jishokun-Japanese English Dictionary & Translator - 0  Ratings\n"
     ]
    }
   ],
   "source": [
    "for app in ios_final:\n",
    "    if app[11]=='Reference':\n",
    "        print(app[1],'-',app[5],' Ratings')"
   ]
  },
  {
   "cell_type": "markdown",
   "metadata": {},
   "source": [
    "We're seeing more variation in this category. This is good as now we have a sense of the genre of apps that are being downloaded most by users. One idea may be to take a popular book in the public domain and turn it into an app where we could add different features besides the raw version of the book. This might include daily quotes from the book, an audio version of the book, quizzes about the book, etc. On top of that, we could also embed a dictionary within the app, so users don't need to exit our app to look up words in an external app. Let's turn our attention now to the Google Play store to understand the genre of apps most popular there\n",
    "\n",
    "#### Google's Play Store"
   ]
  },
  {
   "cell_type": "markdown",
   "metadata": {},
   "source": [
    "For the Google Play market, we actually have data about the number of installs, so we should be able to get a clearer picture about genre popularity. Let's take a look at the breakdown of this column now"
   ]
  },
  {
   "cell_type": "code",
   "execution_count": 29,
   "metadata": {
    "collapsed": false
   },
   "outputs": [
    {
     "name": "stdout",
     "output_type": "stream",
     "text": [
      "1,000,000+ : 15.72 %\n",
      "100,000+ : 11.55 %\n",
      "10,000,000+ : 10.55 %\n",
      "10,000+ : 10.2 %\n",
      "1,000+ : 8.4 %\n",
      "100+ : 6.91 %\n",
      "5,000,000+ : 6.82 %\n",
      "500,000+ : 5.56 %\n",
      "50,000+ : 4.77 %\n",
      "5,000+ : 4.51 %\n",
      "10+ : 3.54 %\n",
      "500+ : 3.25 %\n",
      "50,000,000+ : 2.3 %\n",
      "100,000,000+ : 2.13 %\n",
      "50+ : 1.92 %\n",
      "5+ : 0.79 %\n",
      "1+ : 0.51 %\n",
      "500,000,000+ : 0.27 %\n",
      "1,000,000,000+ : 0.23 %\n",
      "0+ : 0.05 %\n",
      "0 : 0.01 %\n"
     ]
    }
   ],
   "source": [
    "display_table(android_final,5)"
   ]
  },
  {
   "cell_type": "markdown",
   "metadata": {},
   "source": [
    "We can see that the data in here is binned, into ever increasing buckets, rather than raw values that we created earlier for our App Store analysis. We can still use this data however to find popular genres. To get around the binning, we will hold the following assumption an app with 100,000+ installs has 100,000 installs, and an app with 1,000,000+ installs has 1,000,000 installs, and so on. To perform computations, however, we'll need to convert each install number from string to float. This means we need to remove the commas and the plus characters, otherwise the conversion will fail and raise an error."
   ]
  },
  {
   "cell_type": "code",
   "execution_count": 49,
   "metadata": {
    "collapsed": false
   },
   "outputs": [
    {
     "data": {
      "text/plain": [
       "{'ART_AND_DESIGN': 0.64,\n",
       " 'AUTO_AND_VEHICLES': 0.92,\n",
       " 'BEAUTY': 0.6,\n",
       " 'BOOKS_AND_REFERENCE': 2.14,\n",
       " 'BUSINESS': 4.59,\n",
       " 'COMICS': 0.62,\n",
       " 'COMMUNICATION': 3.24,\n",
       " 'DATING': 1.86,\n",
       " 'EDUCATION': 1.16,\n",
       " 'ENTERTAINMENT': 0.96,\n",
       " 'EVENTS': 0.71,\n",
       " 'FAMILY': 18.91,\n",
       " 'FINANCE': 3.7,\n",
       " 'FOOD_AND_DRINK': 1.24,\n",
       " 'GAME': 9.72,\n",
       " 'HEALTH_AND_FITNESS': 3.08,\n",
       " 'HOUSE_AND_HOME': 0.82,\n",
       " 'LIBRARIES_AND_DEMO': 0.94,\n",
       " 'LIFESTYLE': 3.9,\n",
       " 'Lifestyle': 0.01,\n",
       " 'MAPS_AND_NAVIGATION': 1.4,\n",
       " 'MEDICAL': 3.53,\n",
       " 'NEWS_AND_MAGAZINES': 2.8,\n",
       " 'PARENTING': 0.65,\n",
       " 'PERSONALIZATION': 3.32,\n",
       " 'PHOTOGRAPHY': 2.94,\n",
       " 'PRODUCTIVITY': 3.89,\n",
       " 'SHOPPING': 2.24,\n",
       " 'SOCIAL': 2.66,\n",
       " 'SPORTS': 3.4,\n",
       " 'TOOLS': 8.46,\n",
       " 'TRAVEL_AND_LOCAL': 2.34,\n",
       " 'VIDEO_PLAYERS': 1.79,\n",
       " 'WEATHER': 0.8}"
      ]
     },
     "execution_count": 49,
     "metadata": {},
     "output_type": "execute_result"
    }
   ],
   "source": [
    "categories_android=freq_table(android_final,1)\n",
    "categories_android"
   ]
  },
  {
   "cell_type": "code",
   "execution_count": 55,
   "metadata": {
    "collapsed": false
   },
   "outputs": [
    {
     "data": {
      "text/plain": [
       "[(38456119.2, 'COMMUNICATION'),\n",
       " (24727872.5, 'VIDEO_PLAYERS'),\n",
       " (23253652.1, 'SOCIAL'),\n",
       " (17840110.4, 'PHOTOGRAPHY'),\n",
       " (16787331.3, 'PRODUCTIVITY'),\n",
       " (15588015.6, 'GAME'),\n",
       " (13984077.7, 'TRAVEL_AND_LOCAL'),\n",
       " (11640705.9, 'ENTERTAINMENT'),\n",
       " (10801391.3, 'TOOLS'),\n",
       " (9549178.5, 'NEWS_AND_MAGAZINES'),\n",
       " (8767811.9, 'BOOKS_AND_REFERENCE'),\n",
       " (7036877.3, 'SHOPPING'),\n",
       " (5201482.6, 'PERSONALIZATION'),\n",
       " (5074486.2, 'WEATHER'),\n",
       " (4188822.0, 'HEALTH_AND_FITNESS'),\n",
       " (4056941.8, 'MAPS_AND_NAVIGATION'),\n",
       " (3695641.8, 'FAMILY'),\n",
       " (3638640.1, 'SPORTS'),\n",
       " (1986335.1, 'ART_AND_DESIGN'),\n",
       " (1924897.7, 'FOOD_AND_DRINK'),\n",
       " (1833495.1, 'EDUCATION'),\n",
       " (1712290.1, 'BUSINESS'),\n",
       " (1437816.3, 'LIFESTYLE'),\n",
       " (1387692.5, 'FINANCE'),\n",
       " (1331540.6, 'HOUSE_AND_HOME'),\n",
       " (854028.8, 'DATING'),\n",
       " (817657.3, 'COMICS'),\n",
       " (647317.8, 'AUTO_AND_VEHICLES'),\n",
       " (638503.7, 'LIBRARIES_AND_DEMO'),\n",
       " (542603.6, 'PARENTING'),\n",
       " (513151.9, 'BEAUTY'),\n",
       " (253542.2, 'EVENTS'),\n",
       " (120550.6, 'MEDICAL'),\n",
       " (1000.0, 'Lifestyle')]"
      ]
     },
     "execution_count": 55,
     "metadata": {},
     "output_type": "execute_result"
    }
   ],
   "source": [
    "genre_lists_andr=[]\n",
    "for category in categories_android:\n",
    "    total=0\n",
    "    len_category=0\n",
    "    for app in android_final:\n",
    "        category_app=app[1]\n",
    "        if category_app==category:\n",
    "            n_installs=app[5]\n",
    "            n_installs=n_installs.replace(',','')\n",
    "            n_installs=n_installs.replace('+','')\n",
    "            total+=float(n_installs)\n",
    "            len_category+=1\n",
    "    avg=round(total/len_category,1)\n",
    "    tup=(avg,category)\n",
    "    genre_lists_andr.append(tup)\n",
    "genre_lists_andr=sorted(genre_lists_andr,reverse=True)\n",
    "genre_lists_andr"
   ]
  },
  {
   "cell_type": "markdown",
   "metadata": {},
   "source": [
    "On average, communication apps have the most installs: 38,456,119. Let's examine apps in this category, to find out if we again are not picking a highly skewed catedgory like we saw in the App Store. This time lets isolate those apps that have more than 100,000,000 ratings"
   ]
  },
  {
   "cell_type": "code",
   "execution_count": 69,
   "metadata": {
    "collapsed": false
   },
   "outputs": [
    {
     "name": "stdout",
     "output_type": "stream",
     "text": [
      "WhatsApp Messenger - 1,000,000,000+  Ratings\n",
      "imo beta free calls and text - 100,000,000+  Ratings\n",
      "Android Messages - 100,000,000+  Ratings\n",
      "Google Duo - High Quality Video Calls - 500,000,000+  Ratings\n",
      "Messenger – Text and Video Chat for Free - 1,000,000,000+  Ratings\n",
      "imo free video calls and chat - 500,000,000+  Ratings\n",
      "Skype - free IM & video calls - 1,000,000,000+  Ratings\n",
      "Who - 100,000,000+  Ratings\n",
      "GO SMS Pro - Messenger, Free Themes, Emoji - 100,000,000+  Ratings\n",
      "LINE: Free Calls & Messages - 500,000,000+  Ratings\n",
      "Google Chrome: Fast & Secure - 1,000,000,000+  Ratings\n",
      "Firefox Browser fast & private - 100,000,000+  Ratings\n",
      "UC Browser - Fast Download Private & Secure - 500,000,000+  Ratings\n",
      "Gmail - 1,000,000,000+  Ratings\n",
      "Hangouts - 1,000,000,000+  Ratings\n",
      "Messenger Lite: Free Calls & Messages - 100,000,000+  Ratings\n",
      "Kik - 100,000,000+  Ratings\n",
      "KakaoTalk: Free Calls & Text - 100,000,000+  Ratings\n",
      "Opera Mini - fast web browser - 100,000,000+  Ratings\n",
      "Opera Browser: Fast and Secure - 100,000,000+  Ratings\n",
      "Telegram - 100,000,000+  Ratings\n",
      "Truecaller: Caller ID, SMS spam blocking & Dialer - 100,000,000+  Ratings\n",
      "UC Browser Mini -Tiny Fast Private & Secure - 100,000,000+  Ratings\n",
      "Viber Messenger - 500,000,000+  Ratings\n",
      "WeChat - 100,000,000+  Ratings\n",
      "Yahoo Mail – Stay Organized - 100,000,000+  Ratings\n",
      "BBM - Free Calls & Messages - 100,000,000+  Ratings\n"
     ]
    }
   ],
   "source": [
    "\n",
    "for app in android_final:\n",
    "    if app[1] == 'COMMUNICATION' and (float((app[5].replace('+','').replace(',',''))) >= 100000000):\n",
    "        print(app[0],'-',app[5],' Ratings')"
   ]
  },
  {
   "cell_type": "markdown",
   "metadata": {},
   "source": [
    "We can see that even in this category we're seeing highly skewed data. This is true for the next couple of categories. Let's turn to the Books and Reference Category in the Play Store to see if we can find a similar breakdown to what we saw in the App Store."
   ]
  },
  {
   "cell_type": "code",
   "execution_count": 70,
   "metadata": {
    "collapsed": false
   },
   "outputs": [
    {
     "name": "stdout",
     "output_type": "stream",
     "text": [
      "E-Book Read - Read Book for free : 50,000+\n",
      "Download free book with green book : 100,000+\n",
      "Wikipedia : 10,000,000+\n",
      "Cool Reader : 10,000,000+\n",
      "Free Panda Radio Music : 100,000+\n",
      "Book store : 1,000,000+\n",
      "FBReader: Favorite Book Reader : 10,000,000+\n",
      "English Grammar Complete Handbook : 500,000+\n",
      "Free Books - Spirit Fanfiction and Stories : 1,000,000+\n",
      "Google Play Books : 1,000,000,000+\n",
      "AlReader -any text book reader : 5,000,000+\n",
      "Offline English Dictionary : 100,000+\n",
      "Offline: English to Tagalog Dictionary : 500,000+\n",
      "FamilySearch Tree : 1,000,000+\n",
      "Cloud of Books : 1,000,000+\n",
      "Recipes of Prophetic Medicine for free : 500,000+\n",
      "ReadEra – free ebook reader : 1,000,000+\n",
      "Anonymous caller detection : 10,000+\n",
      "Ebook Reader : 5,000,000+\n",
      "Litnet - E-books : 100,000+\n",
      "Read books online : 5,000,000+\n",
      "English to Urdu Dictionary : 500,000+\n",
      "eBoox: book reader fb2 epub zip : 1,000,000+\n",
      "English Persian Dictionary : 500,000+\n",
      "Flybook : 500,000+\n",
      "All Maths Formulas : 1,000,000+\n",
      "Ancestry : 5,000,000+\n",
      "HTC Help : 10,000,000+\n",
      "English translation from Bengali : 100,000+\n",
      "Pdf Book Download - Read Pdf Book : 100,000+\n",
      "Free Book Reader : 100,000+\n",
      "eBoox new: Reader for fb2 epub zip books : 50,000+\n",
      "Only 30 days in English, the guideline is guaranteed : 500,000+\n",
      "Moon+ Reader : 10,000,000+\n",
      "SH-02J Owner's Manual (Android 8.0) : 50,000+\n",
      "English-Myanmar Dictionary : 1,000,000+\n",
      "Golden Dictionary (EN-AR) : 1,000,000+\n",
      "All Language Translator Free : 1,000,000+\n",
      "Azpen eReader : 500,000+\n",
      "URBANO V 02 instruction manual : 100,000+\n",
      "Bible : 100,000,000+\n",
      "C Programs and Reference : 50,000+\n",
      "C Offline Tutorial : 1,000+\n",
      "C Programs Handbook : 50,000+\n",
      "Amazon Kindle : 100,000,000+\n",
      "Aab e Hayat Full Novel : 100,000+\n",
      "Aldiko Book Reader : 10,000,000+\n",
      "Google I/O 2018 : 500,000+\n",
      "R Language Reference Guide : 10,000+\n",
      "Learn R Programming Full : 5,000+\n",
      "R Programing Offline Tutorial : 1,000+\n",
      "Guide for R Programming : 5+\n",
      "Learn R Programming : 10+\n",
      "R Quick Reference Big Data : 1,000+\n",
      "V Made : 100,000+\n",
      "Wattpad 📖 Free Books : 100,000,000+\n",
      "Dictionary - WordWeb : 5,000,000+\n",
      "Guide (for X-MEN) : 100,000+\n",
      "AC Air condition Troubleshoot,Repair,Maintenance : 5,000+\n",
      "AE Bulletins : 1,000+\n",
      "Ae Allah na Dai (Rasa) : 10,000+\n",
      "50000 Free eBooks & Free AudioBooks : 5,000,000+\n",
      "Ag PhD Field Guide : 10,000+\n",
      "Ag PhD Deficiencies : 10,000+\n",
      "Ag PhD Planting Population Calculator : 1,000+\n",
      "Ag PhD Soybean Diseases : 1,000+\n",
      "Fertilizer Removal By Crop : 50,000+\n",
      "A-J Media Vault : 50+\n",
      "Al-Quran (Free) : 10,000,000+\n",
      "Al Quran (Tafsir & by Word) : 500,000+\n",
      "Al Quran Indonesia : 10,000,000+\n",
      "Al'Quran Bahasa Indonesia : 10,000,000+\n",
      "Al Quran Al karim : 1,000,000+\n",
      "Al-Muhaffiz : 50,000+\n",
      "Al Quran : EAlim - Translations & MP3 Offline : 5,000,000+\n",
      "Al-Quran 30 Juz free copies : 500,000+\n",
      "Koran Read &MP3 30 Juz Offline : 1,000,000+\n",
      "Hafizi Quran 15 lines per page : 1,000,000+\n",
      "Quran for Android : 10,000,000+\n",
      "Surah Al-Waqiah : 100,000+\n",
      "Hisnul Al Muslim - Hisn Invocations & Adhkaar : 100,000+\n",
      "Satellite AR : 1,000,000+\n",
      "Audiobooks from Audible : 100,000,000+\n",
      "Kinot & Eichah for Tisha B'Av : 10,000+\n",
      "AW Tozer Devotionals - Daily : 5,000+\n",
      "Tozer Devotional -Series 1 : 1,000+\n",
      "The Pursuit of God : 1,000+\n",
      "AY Sing : 5,000+\n",
      "Ay Hasnain k Nana Milad Naat : 10,000+\n",
      "Ay Mohabbat Teri Khatir Novel : 10,000+\n",
      "Arizona Statutes, ARS (AZ Law) : 1,000+\n",
      "Oxford A-Z of English Usage : 1,000,000+\n",
      "BD Fishpedia : 1,000+\n",
      "BD All Sim Offer : 10,000+\n",
      "Youboox - Livres, BD et magazines : 500,000+\n",
      "B&H Kids AR : 10,000+\n",
      "B y H Niños ES : 5,000+\n",
      "Dictionary.com: Find Definitions for English Words : 10,000,000+\n",
      "English Dictionary - Offline : 10,000,000+\n",
      "Bible KJV : 5,000,000+\n",
      "Borneo Bible, BM Bible : 10,000+\n",
      "MOD Black for BM : 100+\n",
      "BM Box : 1,000+\n",
      "Anime Mod for BM : 100+\n",
      "NOOK: Read eBooks & Magazines : 10,000,000+\n",
      "NOOK Audiobooks : 500,000+\n",
      "NOOK App for NOOK Devices : 500,000+\n",
      "Browsery by Barnes & Noble : 5,000+\n",
      "bp e-store : 1,000+\n",
      "Brilliant Quotes: Life, Love, Family & Motivation : 1,000,000+\n",
      "BR Ambedkar Biography & Quotes : 10,000+\n",
      "BU Alsace : 100+\n",
      "Catholic La Bu Zo Kam : 500+\n",
      "Khrifa Hla Bu (Solfa) : 10+\n",
      "Kristian Hla Bu : 10,000+\n",
      "SA HLA BU : 1,000+\n",
      "Learn SAP BW : 500+\n",
      "Learn SAP BW on HANA : 500+\n",
      "CA Laws 2018 (California Laws and Codes) : 5,000+\n",
      "Bootable Methods(USB-CD-DVD) : 10,000+\n",
      "cloudLibrary : 100,000+\n",
      "SDA Collegiate Quarterly : 500+\n",
      "Sabbath School : 100,000+\n",
      "Cypress College Library : 100+\n",
      "Stats Royale for Clash Royale : 1,000,000+\n",
      "GATE 21 years CS Papers(2011-2018 Solved) : 50+\n",
      "Learn CT Scan Of Head : 5,000+\n",
      "Easy Cv maker 2018 : 10,000+\n",
      "How to Write CV : 100,000+\n",
      "CW Nuclear : 1,000+\n",
      "CY Spray nozzle : 10+\n",
      "BibleRead En Cy Zh Yue : 5+\n",
      "CZ-Help : 5+\n",
      "Modlitební knížka CZ : 500+\n",
      "Guide for DB Xenoverse : 10,000+\n",
      "Guide for DB Xenoverse 2 : 10,000+\n",
      "Guide for IMS DB : 10+\n",
      "DC HSEMA : 5,000+\n",
      "DC Public Library : 1,000+\n",
      "Painting Lulu DC Super Friends : 1,000+\n",
      "Dictionary : 10,000,000+\n",
      "Fix Error Google Playstore : 1,000+\n",
      "D. H. Lawrence Poems FREE : 1,000+\n",
      "Bilingual Dictionary Audio App : 5,000+\n",
      "DM Screen : 10,000+\n",
      "wikiHow: how to do anything : 1,000,000+\n",
      "Dr. Doug's Tips : 1,000+\n",
      "Bible du Semeur-BDS (French) : 50,000+\n",
      "La citadelle du musulman : 50,000+\n",
      "DV 2019 Entry Guide : 10,000+\n",
      "DV 2019 - EDV Photo & Form : 50,000+\n",
      "DV 2018 Winners Guide : 1,000+\n",
      "EB Annual Meetings : 1,000+\n",
      "EC - AP & Telangana : 5,000+\n",
      "TN Patta Citta & EC : 10,000+\n",
      "AP Stamps and Registration : 10,000+\n",
      "CompactiMa EC pH Calibration : 100+\n",
      "EGW Writings 2 : 100,000+\n",
      "EGW Writings : 1,000,000+\n",
      "Bible with EGW Comments : 100,000+\n",
      "My Little Pony AR Guide : 1,000,000+\n",
      "SDA Sabbath School Quarterly : 500,000+\n",
      "Duaa Ek Ibaadat : 5,000+\n",
      "Spanish English Translator : 10,000,000+\n",
      "Dictionary - Merriam-Webster : 10,000,000+\n",
      "JW Library : 10,000,000+\n",
      "Oxford Dictionary of English : Free : 10,000,000+\n",
      "English Hindi Dictionary : 10,000,000+\n",
      "English to Hindi Dictionary : 5,000,000+\n",
      "EP Research Service : 1,000+\n",
      "Hymnes et Louanges : 100,000+\n",
      "EU Charter : 1,000+\n",
      "EU Data Protection : 1,000+\n",
      "EU IP Codes : 100+\n",
      "EW PDF : 5+\n",
      "BakaReader EX : 100,000+\n",
      "EZ Quran : 50,000+\n",
      "FA Part 1 & 2 Past Papers Solved Free – Offline : 5,000+\n",
      "La Fe de Jesus : 1,000+\n",
      "La Fe de Jesús : 500+\n",
      "Le Fe de Jesus : 500+\n",
      "Florida - Pocket Brainbook : 1,000+\n",
      "Florida Statutes (FL Code) : 1,000+\n",
      "English To Shona Dictionary : 10,000+\n",
      "Greek Bible FP (Audio) : 1,000+\n",
      "Golden Dictionary (FR-AR) : 500,000+\n",
      "Fanfic-FR : 5,000+\n",
      "Bulgarian French Dictionary Fr : 10,000+\n",
      "Chemin (fr) : 1,000+\n",
      "The SCP Foundation DB fr nn5n : 1,000+\n"
     ]
    }
   ],
   "source": [
    "for app in android_final:\n",
    "    if app[1] == 'BOOKS_AND_REFERENCE':\n",
    "        print(app[0], ':', app[5])"
   ]
  },
  {
   "cell_type": "markdown",
   "metadata": {},
   "source": [
    "The book and reference genre includes a variety of apps: software for processing and reading ebooks, various collections of libraries, dictionaries, tutorials on programming or languages, etc. It seems there's still a small number of extremely popular apps that skew the average:"
   ]
  },
  {
   "cell_type": "code",
   "execution_count": 74,
   "metadata": {
    "collapsed": false
   },
   "outputs": [
    {
     "name": "stdout",
     "output_type": "stream",
     "text": [
      "Google Play Books - 1,000,000,000+  Ratings\n",
      "Bible - 100,000,000+  Ratings\n",
      "Amazon Kindle - 100,000,000+  Ratings\n",
      "Wattpad 📖 Free Books - 100,000,000+  Ratings\n",
      "Audiobooks from Audible - 100,000,000+  Ratings\n"
     ]
    }
   ],
   "source": [
    "for app in android_final:\n",
    "    if app[1] == 'BOOKS_AND_REFERENCE' and (float((app[5].replace('+','').replace(',',''))) >= 100000000):\n",
    "        print(app[0],'-',app[5],' Ratings')"
   ]
  },
  {
   "cell_type": "markdown",
   "metadata": {},
   "source": [
    "However, it looks like there are only a few very popular apps, so this market still shows potential. Let's try to get some app ideas based on the kind of apps that are somewhere in the middle in terms of popularity (between 1,000,000 and 100,000,000 downloads):"
   ]
  },
  {
   "cell_type": "code",
   "execution_count": 75,
   "metadata": {
    "collapsed": false
   },
   "outputs": [
    {
     "name": "stdout",
     "output_type": "stream",
     "text": [
      "Wikipedia - 10,000,000+  Ratings\n",
      "Cool Reader - 10,000,000+  Ratings\n",
      "Book store - 1,000,000+  Ratings\n",
      "FBReader: Favorite Book Reader - 10,000,000+  Ratings\n",
      "Free Books - Spirit Fanfiction and Stories - 1,000,000+  Ratings\n",
      "AlReader -any text book reader - 5,000,000+  Ratings\n",
      "FamilySearch Tree - 1,000,000+  Ratings\n",
      "Cloud of Books - 1,000,000+  Ratings\n",
      "ReadEra – free ebook reader - 1,000,000+  Ratings\n",
      "Ebook Reader - 5,000,000+  Ratings\n",
      "Read books online - 5,000,000+  Ratings\n",
      "eBoox: book reader fb2 epub zip - 1,000,000+  Ratings\n",
      "All Maths Formulas - 1,000,000+  Ratings\n",
      "Ancestry - 5,000,000+  Ratings\n",
      "HTC Help - 10,000,000+  Ratings\n",
      "Moon+ Reader - 10,000,000+  Ratings\n",
      "English-Myanmar Dictionary - 1,000,000+  Ratings\n",
      "Golden Dictionary (EN-AR) - 1,000,000+  Ratings\n",
      "All Language Translator Free - 1,000,000+  Ratings\n",
      "Bible - 100,000,000+  Ratings\n",
      "Amazon Kindle - 100,000,000+  Ratings\n",
      "Aldiko Book Reader - 10,000,000+  Ratings\n",
      "Wattpad 📖 Free Books - 100,000,000+  Ratings\n",
      "Dictionary - WordWeb - 5,000,000+  Ratings\n",
      "50000 Free eBooks & Free AudioBooks - 5,000,000+  Ratings\n",
      "Al-Quran (Free) - 10,000,000+  Ratings\n",
      "Al Quran Indonesia - 10,000,000+  Ratings\n",
      "Al'Quran Bahasa Indonesia - 10,000,000+  Ratings\n",
      "Al Quran Al karim - 1,000,000+  Ratings\n",
      "Al Quran : EAlim - Translations & MP3 Offline - 5,000,000+  Ratings\n",
      "Koran Read &MP3 30 Juz Offline - 1,000,000+  Ratings\n",
      "Hafizi Quran 15 lines per page - 1,000,000+  Ratings\n",
      "Quran for Android - 10,000,000+  Ratings\n",
      "Satellite AR - 1,000,000+  Ratings\n",
      "Audiobooks from Audible - 100,000,000+  Ratings\n",
      "Oxford A-Z of English Usage - 1,000,000+  Ratings\n",
      "Dictionary.com: Find Definitions for English Words - 10,000,000+  Ratings\n",
      "English Dictionary - Offline - 10,000,000+  Ratings\n",
      "Bible KJV - 5,000,000+  Ratings\n",
      "NOOK: Read eBooks & Magazines - 10,000,000+  Ratings\n",
      "Brilliant Quotes: Life, Love, Family & Motivation - 1,000,000+  Ratings\n",
      "Stats Royale for Clash Royale - 1,000,000+  Ratings\n",
      "Dictionary - 10,000,000+  Ratings\n",
      "wikiHow: how to do anything - 1,000,000+  Ratings\n",
      "EGW Writings - 1,000,000+  Ratings\n",
      "My Little Pony AR Guide - 1,000,000+  Ratings\n",
      "Spanish English Translator - 10,000,000+  Ratings\n",
      "Dictionary - Merriam-Webster - 10,000,000+  Ratings\n",
      "JW Library - 10,000,000+  Ratings\n",
      "Oxford Dictionary of English : Free - 10,000,000+  Ratings\n",
      "English Hindi Dictionary - 10,000,000+  Ratings\n",
      "English to Hindi Dictionary - 5,000,000+  Ratings\n"
     ]
    }
   ],
   "source": [
    "for app in android_final:\n",
    "    if app[1] == 'BOOKS_AND_REFERENCE' and (1000000 <= float((app[5].replace('+','').replace(',',''))) <= 100000000):\n",
    "        print(app[0],'-',app[5],' Ratings')"
   ]
  },
  {
   "cell_type": "markdown",
   "metadata": {
    "collapsed": true
   },
   "source": [
    "\n",
    "This niche seems to be dominated by software for processing and reading ebooks, as well as various collections of libraries and dictionaries, so it's probably not a good idea to build similar apps since there'll be some significant competition.\n",
    "\n",
    "We also notice there are quite a few apps built around the book Quran as well as many dictionary/reference libraries. This suggests that building an app around a popular book can be profitable venture for both the Google Play and the App Store markets. An opportunity exists for an app developer to pick a popular book (perhaps a classic novel in the public domain that's free of any copyright restrictions) and turn it into an app. This app might include features like:  \n",
    "    - Daily quotes from the book, \n",
    "    - An audio version of the book, \n",
    "    - Quizzes on the book \n",
    "    - A forum where people can discuss the book\n",
    "\n",
    "### Conclusions\n",
    "In this project, we analyzed data about the App Store and Google Play mobile apps with the goal of recommending an app profile that can be profitable for both markets.\n",
    "\n",
    "We concluded that taking a popular book (perhaps a classical novel in the public domain) and turning it into an app could be profitable for both the Google Play and the App Store markets. This app might include features like daily quotes/audio snippets from the book in addition to quizzes and/or a forum where people can discuss the book."
   ]
  }
 ],
 "metadata": {
  "celltoolbar": "Raw Cell Format",
  "kernelspec": {
   "display_name": "Python 3",
   "language": "python",
   "name": "python3"
  },
  "language_info": {
   "codemirror_mode": {
    "name": "ipython",
    "version": 3
   },
   "file_extension": ".py",
   "mimetype": "text/x-python",
   "name": "python",
   "nbconvert_exporter": "python",
   "pygments_lexer": "ipython3",
   "version": "3.4.3"
  }
 },
 "nbformat": 4,
 "nbformat_minor": 2
}
